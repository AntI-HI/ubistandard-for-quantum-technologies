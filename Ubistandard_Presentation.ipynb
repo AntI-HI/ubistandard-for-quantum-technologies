{
 "cells": [
  {
   "cell_type": "markdown",
   "metadata": {},
   "source": [
    "# 0. INTRO\n",
    "\n",
    "\n",
    "# Merhaba!\n",
    "\n",
    "## Grup Adı: Ubistandard\n",
    "\n",
    "## Üyeler:\n",
    "1.Batıkan Bora ORMANCI\n",
    "\n",
    "2.Can Artun\n",
    "\n",
    "3.Kamil Kaya\n",
    "\n",
    "### Organizasyon ekibine sağladıkları bu olanak için teşekkür ederiz!\n",
    "\n",
    "\n"
   ]
  },
  {
   "cell_type": "markdown",
   "metadata": {},
   "source": [
    "# 1. STORY & MOTIVATION\n",
    "\n",
    "\n",
    "#### Neden Eğitim Materyallerinde Standartlaşma?\n",
    "\n",
    "#### Neden Quantum Teknolojileri Hackathon'unda bu konu?\n",
    "\n",
    "\n"
   ]
  },
  {
   "cell_type": "code",
   "execution_count": 37,
   "metadata": {},
   "outputs": [],
   "source": [
    "%%bash\n",
    "firefox ubistandard.ml/d/qturkey\n",
    "# curl --location ubistandard.ml/d/google%20kotlin%20codelab\n"
   ]
  },
  {
   "cell_type": "code",
   "execution_count": 2,
   "metadata": {},
   "outputs": [
    {
     "name": "stdout",
     "output_type": "stream",
     "text": [
      " 1.  QTurkey | Kuantum Teknoloji | Turkey [www.qturkey.org]\n",
      "QTurkey is Turkey's first community page on Quantum Technologies. QTurkey Türkiye'nin ilk kuantum teknolojileri komünitesi sayfasıdır. The First Quantum Technologies Community in Turkey.\n",
      "\n",
      " 2.  News | QTurkey [www.qturkey.org]\n",
      "QTurkey Competition. 2040 Yılında Kuantum Teknolojiler Hayatımızı Nasıl Etkileyecek? Yarışmanın Amacı: Kuantum teknolojileri dünya çapında hızla gelişen ve önem kazanan bir konu.\n",
      "\n",
      " 3.  Turkey - Wikipedia [en.wikipedia.org]\n",
      "Turkey (Turkish: Türkiye [ˈtyɾcije]), officially the Republic of Turkey (Turkish: Türkiye Cumhuriyeti [ˈtyɾcije dʒumˈhuːɾijeti] (listen)...\n",
      "\n",
      " 4.  Hackathon | QTurkey [www.qturkey.org]\n",
      "Bu kapsamda QTurkey/QWorld olarak düzenleyeceğimiz 2. Hackathonumuzu bu sene tüm kuantum QTurkey - Kuantum Programlama Uygulamaları Hackathonu 14-15 Aralık 2019 tarihlerinde ODTÜ...\n",
      "\n",
      " 5.  QTurkey | Türkiye'nin İlk Kuantum Teknolojileri Platformu [kuantumturkiye.org]\n",
      "Kuantum Programlama Nedir? QTurkey Yayınları. QTurkey Yayınları. Kuantum-Türkiye Ulusal Çalıştayı (TBAE) / Quantum Future Academy 2020 Tanıtımı - Zafer Gedik.\n",
      "\n",
      " 6.  Turkey | Location, Geography, People, Economy... | Britannica [www.britannica.com]\n",
      "Turkey, country that occupies a unique geographic position, lying partly in Asia and partly in Europe and serving as both a bridge and a barrier between them.\n",
      "\n",
      " 7.  Kuantum Teknolojileri Türkiye (@KuantumTurkiye) | Твиттер [twitter.com]\n",
      "QTurkey'e katılıp İkinci Kuantum Devrimini ülkemize de taşımaya yardımcı olmak için bu formu doldurabilirsiniz Kuantum Teknolojileri Türkiye @KuantumTurkiye. QTurkey olarak 28 Eylül - 2...\n",
      "\n",
      " 8.  Turkey - New World Encyclopedia [www.newworldencyclopedia.org]\n",
      "For the bird, see Turkey (bird). Turkey, known officially as the Republic of Turkey (Türkiye Cumhuriyeti) is a Eurasian country that stretches across the Anatolian peninsula in southwest Asia and the Balkan region of southeastern Europe.\n",
      "\n",
      " 9.  Turkey 2020: Best of Turkey Tourism - Tripadvisor [www.tripadvisor.com]\n",
      "Turkey Tourism: Tripadvisor has 4,946,582 reviews of Turkey Hotels, Attractions, and Restaurants making it your best Turkey resource.\n",
      "\n",
      " 10. QTurkey - Medium [medium.com]\n",
      "QTurkey Türkiye'deki kuantum teknolojileriyle alakalı aktiviteler için bir iletişim ve işbirliği ağıdır. QTurkey. Türkiye'nin İlk Kuantum Teknolojileri Platformu.\n",
      "\n",
      "ddgr (? for help): "
     ]
    },
    {
     "name": "stderr",
     "output_type": "stream",
     "text": [
      "\n"
     ]
    }
   ],
   "source": [
    "\n",
    "%%bash\n",
    "ddgr qturkey"
   ]
  },
  {
   "cell_type": "code",
   "execution_count": 3,
   "metadata": {},
   "outputs": [],
   "source": []
  },
  {
   "cell_type": "code",
   "execution_count": 30,
   "metadata": {},
   "outputs": [],
   "source": [
    "%reload_ext ubistandard_ext"
   ]
  },
  {
   "cell_type": "code",
   "execution_count": 33,
   "metadata": {},
   "outputs": [
    {
     "name": "stdout",
     "output_type": "stream",
     "text": [
      "The hierarchymagic extension is already loaded. To reload it, use:\n",
      "  %reload_ext hierarchymagic\n"
     ]
    }
   ],
   "source": []
  },
  {
   "cell_type": "code",
   "execution_count": 31,
   "metadata": {},
   "outputs": [
    {
     "name": "stdout",
     "output_type": "stream",
     "text": [
      "HTTP/1.1 301 Moved Permanently\n",
      "Cache-Control: public, max-age=0, must-revalidate\n",
      "Content-Length: 63\n",
      "Content-Type: text/plain; charset=utf-8\n",
      "Date: Sat, 10 Oct 2020 13:11:44 GMT\n",
      "Location: https://duckduckgo.com/?q=!ducky+=kotlincodelab\n",
      "Age: 331\n",
      "Connection: keep-alive\n",
      "Server: Netlify\n",
      "X-NF-Request-ID: 7a17a235-7478-40a8-8662-a680aa598190-9527931\n",
      "\n",
      "HTTP/1.1 200 OK\n",
      "Server: nginx\n",
      "Date: Sat, 10 Oct 2020 13:17:17 GMT\n",
      "Content-Type: text/html; charset=UTF-8\n",
      "Transfer-Encoding: chunked\n",
      "Connection: keep-alive\n",
      "Vary: Accept-Encoding\n",
      "Server-Timing: total;dur=434;desc=\"Backend Total\"\n",
      "X-DuckDuckGo-Results: 1\n",
      "Strict-Transport-Security: max-age=31536000\n",
      "X-Frame-Options: SAMEORIGIN\n",
      "Content-Security-Policy: default-src https: blob: data: 'unsafe-inline' 'unsafe-eval'; frame-ancestors 'self';\n",
      "X-XSS-Protection: 1;mode=block\n",
      "X-Content-Type-Options: nosniff\n",
      "Referrer-Policy: origin\n",
      "Expect-CT: max-age=0\n",
      "Expires: Sat, 10 Oct 2020 13:17:18 GMT\n",
      "Cache-Control: max-age=1\n",
      "X-DuckDuckGo-Locale: en_US\n",
      "\n"
     ]
    }
   ],
   "source": [
    "%webfetcher kotlincodelab"
   ]
  },
  {
   "cell_type": "markdown",
   "metadata": {},
   "source": [
    "![logic symbols](https://ubistandard.ml/other/symbols/SymbolsOfLogic4JupyterNotebook.png)"
   ]
  },
  {
   "cell_type": "markdown",
   "metadata": {},
   "source": [
    "# 2. Standartlar ve Pragmatizm\n"
   ]
  }
 ],
 "metadata": {
  "kernelspec": {
   "display_name": "Python 3",
   "language": "python",
   "name": "python3"
  },
  "language_info": {
   "codemirror_mode": {
    "name": "ipython",
    "version": 3
   },
   "file_extension": ".py",
   "mimetype": "text/x-python",
   "name": "python",
   "nbconvert_exporter": "python",
   "pygments_lexer": "ipython3",
   "version": "3.8.3"
  }
 },
 "nbformat": 4,
 "nbformat_minor": 4
}
